{
 "cells": [
  {
   "cell_type": "code",
   "execution_count": 5,
   "metadata": {},
   "outputs": [],
   "source": [
    "import pandas as pd\n",
    "import numpy as np\n"
   ]
  },
  {
   "cell_type": "markdown",
   "metadata": {},
   "source": [
    "# Выгрузка и предобработка данных"
   ]
  },
  {
   "cell_type": "code",
   "execution_count": 6,
   "metadata": {},
   "outputs": [],
   "source": [
    "data = pd.read_excel('.\\data.xls')"
   ]
  },
  {
   "cell_type": "code",
   "execution_count": 7,
   "metadata": {},
   "outputs": [
    {
     "data": {
      "text/plain": [
       "<bound method NDFrame.head of       Местное время в Москве (ВДНХ)     T\n",
       "0                  01.10.2024 21:00  11.6\n",
       "1                  01.10.2024 18:00  15.2\n",
       "2                  01.10.2024 15:00  16.7\n",
       "3                  01.10.2024 12:00  13.2\n",
       "4                  01.10.2024 09:00   8.3\n",
       "...                             ...   ...\n",
       "40239              01.01.2014 04:00   1.5\n",
       "40240              01.01.2014 03:00   1.5\n",
       "40241              01.01.2014 02:00   1.3\n",
       "40242              01.01.2014 01:00   1.7\n",
       "40243              01.01.2014 00:00   1.3\n",
       "\n",
       "[40244 rows x 2 columns]>"
      ]
     },
     "execution_count": 7,
     "metadata": {},
     "output_type": "execute_result"
    }
   ],
   "source": [
    "data.head"
   ]
  },
  {
   "cell_type": "markdown",
   "metadata": {},
   "source": [
    " Преобразование времени"
   ]
  },
  {
   "cell_type": "code",
   "execution_count": 8,
   "metadata": {},
   "outputs": [],
   "source": [
    "data['Местное время в Москве (ВДНХ)'] = pd.to_datetime(data['Местное время в Москве (ВДНХ)'],format = '%d.%m.%Y %H:%M')"
   ]
  },
  {
   "cell_type": "markdown",
   "metadata": {},
   "source": [
    "Усреднение времени по дням"
   ]
  },
  {
   "cell_type": "code",
   "execution_count": 9,
   "metadata": {},
   "outputs": [
    {
     "data": {
      "text/html": [
       "<div>\n",
       "<style scoped>\n",
       "    .dataframe tbody tr th:only-of-type {\n",
       "        vertical-align: middle;\n",
       "    }\n",
       "\n",
       "    .dataframe tbody tr th {\n",
       "        vertical-align: top;\n",
       "    }\n",
       "\n",
       "    .dataframe thead th {\n",
       "        text-align: right;\n",
       "    }\n",
       "</style>\n",
       "<table border=\"1\" class=\"dataframe\">\n",
       "  <thead>\n",
       "    <tr style=\"text-align: right;\">\n",
       "      <th></th>\n",
       "      <th>T</th>\n",
       "    </tr>\n",
       "    <tr>\n",
       "      <th>Местное время в Москве (ВДНХ)</th>\n",
       "      <th></th>\n",
       "    </tr>\n",
       "  </thead>\n",
       "  <tbody>\n",
       "    <tr>\n",
       "      <th>2014-01-01</th>\n",
       "      <td>0.575000</td>\n",
       "    </tr>\n",
       "    <tr>\n",
       "      <th>2014-01-02</th>\n",
       "      <td>-2.454167</td>\n",
       "    </tr>\n",
       "    <tr>\n",
       "      <th>2014-01-03</th>\n",
       "      <td>-2.466667</td>\n",
       "    </tr>\n",
       "    <tr>\n",
       "      <th>2014-01-04</th>\n",
       "      <td>-1.741667</td>\n",
       "    </tr>\n",
       "    <tr>\n",
       "      <th>2014-01-05</th>\n",
       "      <td>0.265217</td>\n",
       "    </tr>\n",
       "    <tr>\n",
       "      <th>...</th>\n",
       "      <td>...</td>\n",
       "    </tr>\n",
       "    <tr>\n",
       "      <th>2024-09-27</th>\n",
       "      <td>17.037500</td>\n",
       "    </tr>\n",
       "    <tr>\n",
       "      <th>2024-09-28</th>\n",
       "      <td>18.112500</td>\n",
       "    </tr>\n",
       "    <tr>\n",
       "      <th>2024-09-29</th>\n",
       "      <td>16.587500</td>\n",
       "    </tr>\n",
       "    <tr>\n",
       "      <th>2024-09-30</th>\n",
       "      <td>11.300000</td>\n",
       "    </tr>\n",
       "    <tr>\n",
       "      <th>2024-10-01</th>\n",
       "      <td>11.212500</td>\n",
       "    </tr>\n",
       "  </tbody>\n",
       "</table>\n",
       "<p>3927 rows × 1 columns</p>\n",
       "</div>"
      ],
      "text/plain": [
       "                                       T\n",
       "Местное время в Москве (ВДНХ)           \n",
       "2014-01-01                      0.575000\n",
       "2014-01-02                     -2.454167\n",
       "2014-01-03                     -2.466667\n",
       "2014-01-04                     -1.741667\n",
       "2014-01-05                      0.265217\n",
       "...                                  ...\n",
       "2024-09-27                     17.037500\n",
       "2024-09-28                     18.112500\n",
       "2024-09-29                     16.587500\n",
       "2024-09-30                     11.300000\n",
       "2024-10-01                     11.212500\n",
       "\n",
       "[3927 rows x 1 columns]"
      ]
     },
     "execution_count": 9,
     "metadata": {},
     "output_type": "execute_result"
    }
   ],
   "source": [
    "data_mean_temp = data.resample('D', on='Местное время в Москве (ВДНХ)').mean()\n",
    "\n",
    "data_mean_temp"
   ]
  },
  {
   "cell_type": "markdown",
   "metadata": {},
   "source": [
    "Определение декады, извелечение месяца и года из индекса"
   ]
  },
  {
   "cell_type": "code",
   "execution_count": 10,
   "metadata": {},
   "outputs": [
    {
     "data": {
      "text/html": [
       "<div>\n",
       "<style scoped>\n",
       "    .dataframe tbody tr th:only-of-type {\n",
       "        vertical-align: middle;\n",
       "    }\n",
       "\n",
       "    .dataframe tbody tr th {\n",
       "        vertical-align: top;\n",
       "    }\n",
       "\n",
       "    .dataframe thead th {\n",
       "        text-align: right;\n",
       "    }\n",
       "</style>\n",
       "<table border=\"1\" class=\"dataframe\">\n",
       "  <thead>\n",
       "    <tr style=\"text-align: right;\">\n",
       "      <th></th>\n",
       "      <th>T</th>\n",
       "      <th>day</th>\n",
       "      <th>decade</th>\n",
       "      <th>year</th>\n",
       "      <th>month</th>\n",
       "    </tr>\n",
       "    <tr>\n",
       "      <th>Местное время в Москве (ВДНХ)</th>\n",
       "      <th></th>\n",
       "      <th></th>\n",
       "      <th></th>\n",
       "      <th></th>\n",
       "      <th></th>\n",
       "    </tr>\n",
       "  </thead>\n",
       "  <tbody>\n",
       "    <tr>\n",
       "      <th>2014-01-01</th>\n",
       "      <td>0.575000</td>\n",
       "      <td>1</td>\n",
       "      <td>1</td>\n",
       "      <td>2014</td>\n",
       "      <td>1</td>\n",
       "    </tr>\n",
       "    <tr>\n",
       "      <th>2014-01-02</th>\n",
       "      <td>-2.454167</td>\n",
       "      <td>2</td>\n",
       "      <td>1</td>\n",
       "      <td>2014</td>\n",
       "      <td>1</td>\n",
       "    </tr>\n",
       "    <tr>\n",
       "      <th>2014-01-03</th>\n",
       "      <td>-2.466667</td>\n",
       "      <td>3</td>\n",
       "      <td>1</td>\n",
       "      <td>2014</td>\n",
       "      <td>1</td>\n",
       "    </tr>\n",
       "    <tr>\n",
       "      <th>2014-01-04</th>\n",
       "      <td>-1.741667</td>\n",
       "      <td>4</td>\n",
       "      <td>1</td>\n",
       "      <td>2014</td>\n",
       "      <td>1</td>\n",
       "    </tr>\n",
       "    <tr>\n",
       "      <th>2014-01-05</th>\n",
       "      <td>0.265217</td>\n",
       "      <td>5</td>\n",
       "      <td>1</td>\n",
       "      <td>2014</td>\n",
       "      <td>1</td>\n",
       "    </tr>\n",
       "    <tr>\n",
       "      <th>2014-01-06</th>\n",
       "      <td>0.854167</td>\n",
       "      <td>6</td>\n",
       "      <td>1</td>\n",
       "      <td>2014</td>\n",
       "      <td>1</td>\n",
       "    </tr>\n",
       "    <tr>\n",
       "      <th>2014-01-07</th>\n",
       "      <td>1.200000</td>\n",
       "      <td>7</td>\n",
       "      <td>1</td>\n",
       "      <td>2014</td>\n",
       "      <td>1</td>\n",
       "    </tr>\n",
       "    <tr>\n",
       "      <th>2014-01-08</th>\n",
       "      <td>2.362500</td>\n",
       "      <td>8</td>\n",
       "      <td>1</td>\n",
       "      <td>2014</td>\n",
       "      <td>1</td>\n",
       "    </tr>\n",
       "    <tr>\n",
       "      <th>2014-01-09</th>\n",
       "      <td>2.720833</td>\n",
       "      <td>9</td>\n",
       "      <td>1</td>\n",
       "      <td>2014</td>\n",
       "      <td>1</td>\n",
       "    </tr>\n",
       "    <tr>\n",
       "      <th>2014-01-10</th>\n",
       "      <td>3.133333</td>\n",
       "      <td>10</td>\n",
       "      <td>1</td>\n",
       "      <td>2014</td>\n",
       "      <td>1</td>\n",
       "    </tr>\n",
       "    <tr>\n",
       "      <th>2014-01-11</th>\n",
       "      <td>1.575000</td>\n",
       "      <td>11</td>\n",
       "      <td>2</td>\n",
       "      <td>2014</td>\n",
       "      <td>1</td>\n",
       "    </tr>\n",
       "    <tr>\n",
       "      <th>2014-01-12</th>\n",
       "      <td>-0.162500</td>\n",
       "      <td>12</td>\n",
       "      <td>2</td>\n",
       "      <td>2014</td>\n",
       "      <td>1</td>\n",
       "    </tr>\n",
       "    <tr>\n",
       "      <th>2014-01-13</th>\n",
       "      <td>-3.595833</td>\n",
       "      <td>13</td>\n",
       "      <td>2</td>\n",
       "      <td>2014</td>\n",
       "      <td>1</td>\n",
       "    </tr>\n",
       "    <tr>\n",
       "      <th>2014-01-14</th>\n",
       "      <td>-9.166667</td>\n",
       "      <td>14</td>\n",
       "      <td>2</td>\n",
       "      <td>2014</td>\n",
       "      <td>1</td>\n",
       "    </tr>\n",
       "    <tr>\n",
       "      <th>2014-01-15</th>\n",
       "      <td>-10.600000</td>\n",
       "      <td>15</td>\n",
       "      <td>2</td>\n",
       "      <td>2014</td>\n",
       "      <td>1</td>\n",
       "    </tr>\n",
       "    <tr>\n",
       "      <th>2014-01-16</th>\n",
       "      <td>-9.270833</td>\n",
       "      <td>16</td>\n",
       "      <td>2</td>\n",
       "      <td>2014</td>\n",
       "      <td>1</td>\n",
       "    </tr>\n",
       "    <tr>\n",
       "      <th>2014-01-17</th>\n",
       "      <td>-12.858333</td>\n",
       "      <td>17</td>\n",
       "      <td>2</td>\n",
       "      <td>2014</td>\n",
       "      <td>1</td>\n",
       "    </tr>\n",
       "    <tr>\n",
       "      <th>2014-01-18</th>\n",
       "      <td>-15.916667</td>\n",
       "      <td>18</td>\n",
       "      <td>2</td>\n",
       "      <td>2014</td>\n",
       "      <td>1</td>\n",
       "    </tr>\n",
       "    <tr>\n",
       "      <th>2014-01-19</th>\n",
       "      <td>-18.270833</td>\n",
       "      <td>19</td>\n",
       "      <td>2</td>\n",
       "      <td>2014</td>\n",
       "      <td>1</td>\n",
       "    </tr>\n",
       "    <tr>\n",
       "      <th>2014-01-20</th>\n",
       "      <td>-13.620833</td>\n",
       "      <td>20</td>\n",
       "      <td>2</td>\n",
       "      <td>2014</td>\n",
       "      <td>1</td>\n",
       "    </tr>\n",
       "    <tr>\n",
       "      <th>2014-01-21</th>\n",
       "      <td>-15.487500</td>\n",
       "      <td>21</td>\n",
       "      <td>3</td>\n",
       "      <td>2014</td>\n",
       "      <td>1</td>\n",
       "    </tr>\n",
       "    <tr>\n",
       "      <th>2014-01-22</th>\n",
       "      <td>-17.825000</td>\n",
       "      <td>22</td>\n",
       "      <td>3</td>\n",
       "      <td>2014</td>\n",
       "      <td>1</td>\n",
       "    </tr>\n",
       "    <tr>\n",
       "      <th>2014-01-23</th>\n",
       "      <td>-16.458333</td>\n",
       "      <td>23</td>\n",
       "      <td>3</td>\n",
       "      <td>2014</td>\n",
       "      <td>1</td>\n",
       "    </tr>\n",
       "    <tr>\n",
       "      <th>2014-01-24</th>\n",
       "      <td>-15.466667</td>\n",
       "      <td>24</td>\n",
       "      <td>3</td>\n",
       "      <td>2014</td>\n",
       "      <td>1</td>\n",
       "    </tr>\n",
       "    <tr>\n",
       "      <th>2014-01-25</th>\n",
       "      <td>-15.470833</td>\n",
       "      <td>25</td>\n",
       "      <td>3</td>\n",
       "      <td>2014</td>\n",
       "      <td>1</td>\n",
       "    </tr>\n",
       "    <tr>\n",
       "      <th>2014-01-26</th>\n",
       "      <td>-12.987500</td>\n",
       "      <td>26</td>\n",
       "      <td>3</td>\n",
       "      <td>2014</td>\n",
       "      <td>1</td>\n",
       "    </tr>\n",
       "    <tr>\n",
       "      <th>2014-01-27</th>\n",
       "      <td>-12.045833</td>\n",
       "      <td>27</td>\n",
       "      <td>3</td>\n",
       "      <td>2014</td>\n",
       "      <td>1</td>\n",
       "    </tr>\n",
       "    <tr>\n",
       "      <th>2014-01-28</th>\n",
       "      <td>-15.195833</td>\n",
       "      <td>28</td>\n",
       "      <td>3</td>\n",
       "      <td>2014</td>\n",
       "      <td>1</td>\n",
       "    </tr>\n",
       "    <tr>\n",
       "      <th>2014-01-29</th>\n",
       "      <td>-19.841667</td>\n",
       "      <td>29</td>\n",
       "      <td>3</td>\n",
       "      <td>2014</td>\n",
       "      <td>1</td>\n",
       "    </tr>\n",
       "    <tr>\n",
       "      <th>2014-01-30</th>\n",
       "      <td>-20.837500</td>\n",
       "      <td>30</td>\n",
       "      <td>3</td>\n",
       "      <td>2014</td>\n",
       "      <td>1</td>\n",
       "    </tr>\n",
       "  </tbody>\n",
       "</table>\n",
       "</div>"
      ],
      "text/plain": [
       "                                       T  day  decade  year  month\n",
       "Местное время в Москве (ВДНХ)                                     \n",
       "2014-01-01                      0.575000    1       1  2014      1\n",
       "2014-01-02                     -2.454167    2       1  2014      1\n",
       "2014-01-03                     -2.466667    3       1  2014      1\n",
       "2014-01-04                     -1.741667    4       1  2014      1\n",
       "2014-01-05                      0.265217    5       1  2014      1\n",
       "2014-01-06                      0.854167    6       1  2014      1\n",
       "2014-01-07                      1.200000    7       1  2014      1\n",
       "2014-01-08                      2.362500    8       1  2014      1\n",
       "2014-01-09                      2.720833    9       1  2014      1\n",
       "2014-01-10                      3.133333   10       1  2014      1\n",
       "2014-01-11                      1.575000   11       2  2014      1\n",
       "2014-01-12                     -0.162500   12       2  2014      1\n",
       "2014-01-13                     -3.595833   13       2  2014      1\n",
       "2014-01-14                     -9.166667   14       2  2014      1\n",
       "2014-01-15                    -10.600000   15       2  2014      1\n",
       "2014-01-16                     -9.270833   16       2  2014      1\n",
       "2014-01-17                    -12.858333   17       2  2014      1\n",
       "2014-01-18                    -15.916667   18       2  2014      1\n",
       "2014-01-19                    -18.270833   19       2  2014      1\n",
       "2014-01-20                    -13.620833   20       2  2014      1\n",
       "2014-01-21                    -15.487500   21       3  2014      1\n",
       "2014-01-22                    -17.825000   22       3  2014      1\n",
       "2014-01-23                    -16.458333   23       3  2014      1\n",
       "2014-01-24                    -15.466667   24       3  2014      1\n",
       "2014-01-25                    -15.470833   25       3  2014      1\n",
       "2014-01-26                    -12.987500   26       3  2014      1\n",
       "2014-01-27                    -12.045833   27       3  2014      1\n",
       "2014-01-28                    -15.195833   28       3  2014      1\n",
       "2014-01-29                    -19.841667   29       3  2014      1\n",
       "2014-01-30                    -20.837500   30       3  2014      1"
      ]
     },
     "execution_count": 10,
     "metadata": {},
     "output_type": "execute_result"
    }
   ],
   "source": [
    "data_decaded = data_mean_temp\n",
    "data_decaded['day'] = data_decaded.index.day\n",
    "\n",
    "def decade_sort(x):\n",
    "    if x > 20:\n",
    "        return 3\n",
    "    if x > 10:\n",
    "        return 2\n",
    "    else:\n",
    "        return 1\n",
    "\n",
    "data_decaded['decade'] = data_decaded['day'].apply(decade_sort)\n",
    "\n",
    "data_decaded['year'] = data_decaded.index.year\n",
    "\n",
    "data_decaded['month'] = data_decaded.index.month\n",
    "\n",
    "\n",
    "data_decaded.head (30)"
   ]
  },
  {
   "cell_type": "code",
   "execution_count": 11,
   "metadata": {},
   "outputs": [
    {
     "data": {
      "text/html": [
       "<div>\n",
       "<style scoped>\n",
       "    .dataframe tbody tr th:only-of-type {\n",
       "        vertical-align: middle;\n",
       "    }\n",
       "\n",
       "    .dataframe tbody tr th {\n",
       "        vertical-align: top;\n",
       "    }\n",
       "\n",
       "    .dataframe thead th {\n",
       "        text-align: right;\n",
       "    }\n",
       "</style>\n",
       "<table border=\"1\" class=\"dataframe\">\n",
       "  <thead>\n",
       "    <tr style=\"text-align: right;\">\n",
       "      <th></th>\n",
       "      <th>year</th>\n",
       "      <th>month</th>\n",
       "      <th>decade</th>\n",
       "      <th>T</th>\n",
       "    </tr>\n",
       "  </thead>\n",
       "  <tbody>\n",
       "    <tr>\n",
       "      <th>0</th>\n",
       "      <td>2014</td>\n",
       "      <td>1</td>\n",
       "      <td>1</td>\n",
       "      <td>0.444855</td>\n",
       "    </tr>\n",
       "    <tr>\n",
       "      <th>1</th>\n",
       "      <td>2014</td>\n",
       "      <td>1</td>\n",
       "      <td>2</td>\n",
       "      <td>-9.188750</td>\n",
       "    </tr>\n",
       "    <tr>\n",
       "      <th>2</th>\n",
       "      <td>2014</td>\n",
       "      <td>1</td>\n",
       "      <td>3</td>\n",
       "      <td>-16.354167</td>\n",
       "    </tr>\n",
       "    <tr>\n",
       "      <th>3</th>\n",
       "      <td>2014</td>\n",
       "      <td>2</td>\n",
       "      <td>1</td>\n",
       "      <td>-5.371705</td>\n",
       "    </tr>\n",
       "    <tr>\n",
       "      <th>4</th>\n",
       "      <td>2014</td>\n",
       "      <td>2</td>\n",
       "      <td>2</td>\n",
       "      <td>0.547500</td>\n",
       "    </tr>\n",
       "    <tr>\n",
       "      <th>...</th>\n",
       "      <td>...</td>\n",
       "      <td>...</td>\n",
       "      <td>...</td>\n",
       "      <td>...</td>\n",
       "    </tr>\n",
       "    <tr>\n",
       "      <th>383</th>\n",
       "      <td>2024</td>\n",
       "      <td>8</td>\n",
       "      <td>3</td>\n",
       "      <td>20.151136</td>\n",
       "    </tr>\n",
       "    <tr>\n",
       "      <th>384</th>\n",
       "      <td>2024</td>\n",
       "      <td>9</td>\n",
       "      <td>1</td>\n",
       "      <td>18.411250</td>\n",
       "    </tr>\n",
       "    <tr>\n",
       "      <th>385</th>\n",
       "      <td>2024</td>\n",
       "      <td>9</td>\n",
       "      <td>2</td>\n",
       "      <td>18.520000</td>\n",
       "    </tr>\n",
       "    <tr>\n",
       "      <th>386</th>\n",
       "      <td>2024</td>\n",
       "      <td>9</td>\n",
       "      <td>3</td>\n",
       "      <td>14.478750</td>\n",
       "    </tr>\n",
       "    <tr>\n",
       "      <th>387</th>\n",
       "      <td>2024</td>\n",
       "      <td>10</td>\n",
       "      <td>1</td>\n",
       "      <td>11.212500</td>\n",
       "    </tr>\n",
       "  </tbody>\n",
       "</table>\n",
       "<p>388 rows × 4 columns</p>\n",
       "</div>"
      ],
      "text/plain": [
       "     year  month  decade          T\n",
       "0    2014      1       1   0.444855\n",
       "1    2014      1       2  -9.188750\n",
       "2    2014      1       3 -16.354167\n",
       "3    2014      2       1  -5.371705\n",
       "4    2014      2       2   0.547500\n",
       "..    ...    ...     ...        ...\n",
       "383  2024      8       3  20.151136\n",
       "384  2024      9       1  18.411250\n",
       "385  2024      9       2  18.520000\n",
       "386  2024      9       3  14.478750\n",
       "387  2024     10       1  11.212500\n",
       "\n",
       "[388 rows x 4 columns]"
      ]
     },
     "execution_count": 11,
     "metadata": {},
     "output_type": "execute_result"
    }
   ],
   "source": [
    "data_grouped = data_decaded\n",
    "\n",
    "data_grouped = data_grouped.groupby(['year', 'month', 'decade'])['T'].mean()\n",
    "\n",
    "data_grouped = data_grouped.reset_index()\n",
    "\n",
    "data_grouped"
   ]
  },
  {
   "cell_type": "markdown",
   "metadata": {},
   "source": [
    "Удаление лишних месяцев"
   ]
  },
  {
   "cell_type": "code",
   "execution_count": 12,
   "metadata": {},
   "outputs": [
    {
     "name": "stdout",
     "output_type": "stream",
     "text": [
      "<bound method NDFrame.head of      year  month  decade          T\n",
      "27   2014     10       1   5.892369\n",
      "28   2014     10       2   5.638750\n",
      "29   2014     10       3  -0.111364\n",
      "30   2014     11       1   2.950870\n",
      "31   2014     11       2  -0.956250\n",
      "..    ...    ...     ...        ...\n",
      "357  2023     12       1  -8.941250\n",
      "358  2023     12       2  -4.627500\n",
      "359  2023     12       3  -0.185227\n",
      "360  2024      1       1 -17.697500\n",
      "387  2024     10       1  11.212500\n",
      "\n",
      "[101 rows x 4 columns]>\n"
     ]
    }
   ],
   "source": [
    "data_filtered = data_grouped\n",
    "\n",
    "months_to_keep = [10, 11, 12, 1]\n",
    "\n",
    "data_filtered = data_filtered[data_filtered['month'].isin(months_to_keep)]\n",
    "\n",
    "# Условия для фильтрации\n",
    "condition = ~( (data_filtered['month'] == 1) & (data_filtered['decade'].isin([2, 3])) )\n",
    "\n",
    "# Применяем фильтрацию\n",
    "data_filtered = data_filtered[condition]\n",
    "\n",
    "data_filtered = data_filtered.drop(0)\n",
    "\n",
    "print (data_filtered.head)\n"
   ]
  },
  {
   "cell_type": "code",
   "execution_count": 13,
   "metadata": {},
   "outputs": [
    {
     "name": "stdout",
     "output_type": "stream",
     "text": [
      "     year  month  decade         T\n",
      "27   2014     10       1     4..12\n",
      "28   2014     10       2     4..12\n",
      "29   2014     10       3     -2..0\n",
      "30   2014     11       1      0..4\n",
      "31   2014     11       2     -2..0\n",
      "..    ...    ...     ...       ...\n",
      "356  2023     11       3   -10..-2\n",
      "357  2023     12       1   -10..-2\n",
      "358  2023     12       2   -10..-2\n",
      "359  2023     12       3     -2..0\n",
      "360  2024      1       1  -40..-10\n",
      "\n",
      "[100 rows x 4 columns]\n",
      "4..12\n"
     ]
    }
   ],
   "source": [
    "decoded_data = data_filtered.copy(deep=True)\n",
    "\n",
    "bins = [-40, -10, -2, 0, 4, 12, 18, 40]\n",
    "labels = ['-40..-10','-10..-2','-2..0','0..4','4..12','12..18','18..40']\n",
    "\n",
    "decoded_data['T'] = pd.cut(decoded_data['T'],bins=bins,labels=labels,include_lowest=True)\n",
    "\n",
    "october2024_T = decoded_data['T'][387]\n",
    "\n",
    "decoded_data = decoded_data.drop(387)\n",
    "\n",
    "print(decoded_data)\n",
    "\n",
    "print(october2024_T)\n"
   ]
  },
  {
   "cell_type": "markdown",
   "metadata": {},
   "source": [
    "Преобразуем значения во временные ряды"
   ]
  },
  {
   "cell_type": "code",
   "execution_count": 14,
   "metadata": {},
   "outputs": [
    {
     "name": "stdout",
     "output_type": "stream",
     "text": [
      "{2014: ['4..12', '4..12', '-2..0', '0..4', '-2..0', '-10..-2', '-10..-2', '0..4', '-10..-2', '-10..-2'], 2015: ['4..12', '4..12', '0..4', '0..4', '0..4', '-2..0', '0..4', '-2..0', '-2..0', '-40..-10'], 2016: ['4..12', '0..4', '0..4', '-2..0', '-10..-2', '-10..-2', '-10..-2', '-10..-2', '-2..0', '-40..-10'], 2017: ['4..12', '4..12', '0..4', '0..4', '0..4', '-10..-2', '-2..0', '0..4', '-2..0', '-2..0'], 2018: ['4..12', '4..12', '0..4', '0..4', '-2..0', '-10..-2', '-10..-2', '-10..-2', '-10..-2', '-10..-2'], 2019: ['4..12', '4..12', '4..12', '4..12', '0..4', '-10..-2', '0..4', '0..4', '0..4', '0..4'], 2020: ['12..18', '4..12', '4..12', '4..12', '-2..0', '0..4', '-10..-2', '-10..-2', '-10..-2', '-10..-2'], 2021: ['4..12', '4..12', '4..12', '4..12', '0..4', '0..4', '-10..-2', '-10..-2', '-40..-10', '-10..-2'], 2022: ['4..12', '4..12', '4..12', '0..4', '0..4', '-10..-2', '-10..-2', '-10..-2', '-2..0', '-10..-2'], 2023: ['4..12', '4..12', '0..4', '4..12', '-2..0', '-10..-2', '-10..-2', '-10..-2', '-2..0', '-40..-10']}\n"
     ]
    }
   ],
   "source": [
    "work_data = decoded_data\n",
    "\n",
    "year_ranges = {}\n",
    "\n",
    "for i in range(0, len(work_data ), 10):\n",
    "\n",
    "    # Берем текущую группу из 10 значений\n",
    "    group = work_data .iloc[i:i+10]\n",
    "    \n",
    "    # Получаем год из первого элемента в группе\n",
    "    year = int(group['year'].iloc[0])\n",
    "    \n",
    "    # Сохраняем список значений T в словаре с указанным годом\n",
    "    year_ranges[year] = group['T'].tolist()\n",
    "\n",
    "# Вывод результата\n",
    "print(year_ranges)\n"
   ]
  },
  {
   "cell_type": "markdown",
   "metadata": {},
   "source": [
    "# Вариант 1. Учитываем только первую и последнюю декаду"
   ]
  },
  {
   "cell_type": "markdown",
   "metadata": {},
   "source": [
    "Cчитаем значения переходов"
   ]
  },
  {
   "cell_type": "code",
   "execution_count": 15,
   "metadata": {},
   "outputs": [
    {
     "name": "stdout",
     "output_type": "stream",
     "text": [
      "0\t0\t0\t0\t0\t0\t0\n",
      "0\t0\t0\t0\t0\t0\t0\n",
      "0\t0\t0\t0\t0\t0\t0\n",
      "0\t0\t0\t0\t0\t0\t0\n",
      "3\t4\t1\t1\t0\t0\t0\n",
      "0\t1\t0\t0\t0\t0\t0\n",
      "0\t0\t0\t0\t0\t0\t0\n"
     ]
    }
   ],
   "source": [
    "rows, cols = len(labels), len(labels)\n",
    "\n",
    "count_matrix = [[0 for _ in range(cols)] for _ in range(rows)]\n",
    "\n",
    "\n",
    "for key, value in year_ranges.items():\n",
    "    index_first = labels.index(value[0])\n",
    "    index_last = labels.index(value[9])\n",
    "    count_matrix[index_first][index_last] += 1\n",
    "\n",
    "\n",
    "print('\\n'.join('\\t'.join(map(str, row)) for row in count_matrix))\n"
   ]
  },
  {
   "cell_type": "markdown",
   "metadata": {},
   "source": [
    "Считаем вероятности переходов"
   ]
  },
  {
   "cell_type": "code",
   "execution_count": 16,
   "metadata": {},
   "outputs": [
    {
     "name": "stdout",
     "output_type": "stream",
     "text": [
      "0.00 | 0.00 | 0.00 | 0.00 | 0.00 | 0.00 | 0.00\n",
      "0.00 | 0.00 | 0.00 | 0.00 | 0.00 | 0.00 | 0.00\n",
      "0.00 | 0.00 | 0.00 | 0.00 | 0.00 | 0.00 | 0.00\n",
      "0.00 | 0.00 | 0.00 | 0.00 | 0.00 | 0.00 | 0.00\n",
      "0.33 | 0.44 | 0.11 | 0.11 | 0.00 | 0.00 | 0.00\n",
      "0.00 | 1.00 | 0.00 | 0.00 | 0.00 | 0.00 | 0.00\n",
      "0.00 | 0.00 | 0.00 | 0.00 | 0.00 | 0.00 | 0.00\n"
     ]
    }
   ],
   "source": [
    "probability_matrix = count_matrix\n",
    "\n",
    "for i in range(7):\n",
    "    i_sum = np.sum(probability_matrix,axis=1)[i]\n",
    "    if i_sum > 0:\n",
    "        for j in range(7):\n",
    "            probability_matrix[i][j] /= i_sum\n",
    "\n",
    "\n",
    "\n",
    "for row in probability_matrix:\n",
    "    print(\" | \".join(f\"{value:.2f}\" for value in row))"
   ]
  },
  {
   "cell_type": "markdown",
   "metadata": {},
   "source": [
    "Определение итогового распределения вероятности для нашего случая"
   ]
  },
  {
   "cell_type": "code",
   "execution_count": 17,
   "metadata": {},
   "outputs": [
    {
     "data": {
      "text/plain": [
       "matrix([[0.33333333, 0.44444444, 0.11111111, 0.11111111, 0.        ,\n",
       "         0.        , 0.        ]])"
      ]
     },
     "execution_count": 17,
     "metadata": {},
     "output_type": "execute_result"
    }
   ],
   "source": [
    "cur_state_vector = [0 for _ in range(7)]\n",
    "\n",
    "cur_state = labels.index(october2024_T)\n",
    "\n",
    "cur_state_vector[cur_state] = 1\n",
    "\n",
    "cur_state_vector\n",
    "\n",
    "probability_matrix = np.matrix (probability_matrix)\n",
    "\n",
    "result_probabilities = cur_state_vector * probability_matrix\n",
    "\n",
    "result_probabilities"
   ]
  },
  {
   "cell_type": "markdown",
   "metadata": {},
   "source": [
    "Определение средних значений диапазонов"
   ]
  },
  {
   "cell_type": "code",
   "execution_count": 18,
   "metadata": {},
   "outputs": [
    {
     "name": "stdout",
     "output_type": "stream",
     "text": [
      "[-20.0, -10, -2, 0, 4, 12, 18]\n",
      "[-10, -2, 0, 4, 12, 18, 25.333333333333336]\n"
     ]
    }
   ],
   "source": [
    "min_values = [0 for _ in range(7)]\n",
    "max_values = [0 for _ in range(7)]\n",
    "\n",
    "for i in range(7):\n",
    "    min_values[i] = bins[i]\n",
    "    max_values[i] = bins[i+1]\n",
    "\n",
    "min_values[0] = min_values[1] *2/3 + min_values[0]/3\n",
    "max_values[6] = max_values[5] *2/3 + max_values[6]/3\n",
    "\n",
    "print(min_values)\n",
    "print(max_values)"
   ]
  },
  {
   "cell_type": "markdown",
   "metadata": {},
   "source": [
    "Итоговый прогноз"
   ]
  },
  {
   "cell_type": "code",
   "execution_count": 19,
   "metadata": {},
   "outputs": [
    {
     "name": "stdout",
     "output_type": "stream",
     "text": [
      "-3.777777777777777\n",
      "-11.333333333333332\n",
      "-7.5555555555555545\n"
     ]
    }
   ],
   "source": [
    "max = 0\n",
    "min = 0\n",
    "\n",
    "for i in range(6):\n",
    "    max += max_values[i] * result_probabilities[0, i]\n",
    "    min += min_values[i] * result_probabilities[0, i]\n",
    "\n",
    "avg = (max + min)/2\n",
    "\n",
    "print(max)\n",
    "print(min)\n",
    "print(avg)"
   ]
  },
  {
   "cell_type": "code",
   "execution_count": 20,
   "metadata": {},
   "outputs": [
    {
     "data": {
      "text/plain": [
       "[-40, -10, -2, 0, 4, 12, 18, 40]"
      ]
     },
     "execution_count": 20,
     "metadata": {},
     "output_type": "execute_result"
    }
   ],
   "source": [
    "bins"
   ]
  },
  {
   "cell_type": "markdown",
   "metadata": {},
   "source": [
    "# Вариант 2. Учитываем все декады"
   ]
  },
  {
   "cell_type": "markdown",
   "metadata": {},
   "source": [
    "Cчитаем значения переходов"
   ]
  },
  {
   "cell_type": "code",
   "execution_count": 21,
   "metadata": {},
   "outputs": [
    {
     "name": "stdout",
     "output_type": "stream",
     "text": [
      "0\t1\t0\t0\t0\t0\t0\n",
      "1\t17\t4\t2\t0\t0\t0\n",
      "3\t5\t2\t4\t0\t0\t0\n",
      "0\t6\t6\t11\t1\t0\t0\n",
      "0\t0\t3\t8\t15\t0\t0\n",
      "0\t0\t0\t0\t1\t0\t0\n",
      "0\t0\t0\t0\t0\t0\t0\n"
     ]
    }
   ],
   "source": [
    "rows, cols = len(labels), len(labels)\n",
    "\n",
    "count_matrix2 = [[0 for _ in range(cols)] for _ in range(rows)]\n",
    "\n",
    "for key, value in year_ranges.items():\n",
    "    for pair in range (9):\n",
    "        index_first = labels.index(value[pair])\n",
    "        index_last = labels.index(value[pair+1])\n",
    "        count_matrix2[index_first][index_last] += 1\n",
    "\n",
    "\n",
    "print('\\n'.join('\\t'.join(map(str, row)) for row in count_matrix2))\n"
   ]
  },
  {
   "cell_type": "markdown",
   "metadata": {},
   "source": [
    "Считаем вероятности переходов"
   ]
  },
  {
   "cell_type": "code",
   "execution_count": 22,
   "metadata": {},
   "outputs": [
    {
     "name": "stdout",
     "output_type": "stream",
     "text": [
      "0.00 | 1.00 | 0.00 | 0.00 | 0.00 | 0.00 | 0.00\n",
      "0.04 | 0.71 | 0.17 | 0.08 | 0.00 | 0.00 | 0.00\n",
      "0.21 | 0.36 | 0.14 | 0.29 | 0.00 | 0.00 | 0.00\n",
      "0.00 | 0.25 | 0.25 | 0.46 | 0.04 | 0.00 | 0.00\n",
      "0.00 | 0.00 | 0.12 | 0.31 | 0.58 | 0.00 | 0.00\n",
      "0.00 | 0.00 | 0.00 | 0.00 | 1.00 | 0.00 | 0.00\n",
      "0.00 | 0.00 | 0.00 | 0.00 | 0.00 | 0.00 | 0.00\n"
     ]
    }
   ],
   "source": [
    "probability_matrix2 = count_matrix2\n",
    "\n",
    "for i in range(7):\n",
    "    i_sum = np.sum(probability_matrix2,axis=1)[i]\n",
    "    if i_sum > 0:\n",
    "        for j in range(7):\n",
    "            probability_matrix2[i][j] /= i_sum\n",
    "\n",
    "\n",
    "\n",
    "for row in probability_matrix2:\n",
    "    print(\" | \".join(f\"{value:.2f}\" for value in row))"
   ]
  },
  {
   "cell_type": "markdown",
   "metadata": {},
   "source": [
    "Определение среднего распределения вероятностей для нашего случая"
   ]
  },
  {
   "cell_type": "code",
   "execution_count": 23,
   "metadata": {},
   "outputs": [],
   "source": [
    "probability_matrix2 = np.matrix (probability_matrix2)\n",
    "\n",
    "result_probabilities2 = cur_state_vector * probability_matrix2"
   ]
  },
  {
   "cell_type": "markdown",
   "metadata": {},
   "source": [
    "Итоговый прогноз"
   ]
  },
  {
   "cell_type": "code",
   "execution_count": 24,
   "metadata": {},
   "outputs": [
    {
     "name": "stdout",
     "output_type": "stream",
     "text": [
      "8.153846153846153\n",
      "2.0769230769230766\n",
      "5.115384615384615\n"
     ]
    }
   ],
   "source": [
    "max2 = 0\n",
    "min2 = 0\n",
    "\n",
    "for i in range(6):\n",
    "    max2 += max_values[i] * result_probabilities2[0, i]\n",
    "    min2 += min_values[i] * result_probabilities2[0, i]\n",
    "\n",
    "avg2 = (max2 + min2)/2\n",
    "\n",
    "print(max2)\n",
    "print(min2)\n",
    "print(avg2)"
   ]
  },
  {
   "cell_type": "markdown",
   "metadata": {},
   "source": [
    "# Вариант 3. С разными диапазонами для каждой декады"
   ]
  },
  {
   "cell_type": "markdown",
   "metadata": {},
   "source": [
    "Определение матрицы кодирования. Смещаем исходный интервал на -0.5 в каждой следующей декаде"
   ]
  },
  {
   "cell_type": "code",
   "execution_count": 25,
   "metadata": {},
   "outputs": [
    {
     "data": {
      "text/plain": [
       "array([[-40. , -10. ,  -2. ,   0. ,   4. ,  12. ,  18. ,  40. ],\n",
       "       [-40.5, -10.5,  -2.5,  -0.5,   3.5,  11.5,  17.5,  39.5],\n",
       "       [-41. , -11. ,  -3. ,  -1. ,   3. ,  11. ,  17. ,  39. ],\n",
       "       [-41.5, -11.5,  -3.5,  -1.5,   2.5,  10.5,  16.5,  38.5],\n",
       "       [-42. , -12. ,  -4. ,  -2. ,   2. ,  10. ,  16. ,  38. ],\n",
       "       [-42.5, -12.5,  -4.5,  -2.5,   1.5,   9.5,  15.5,  37.5],\n",
       "       [-43. , -13. ,  -5. ,  -3. ,   1. ,   9. ,  15. ,  37. ],\n",
       "       [-43.5, -13.5,  -5.5,  -3.5,   0.5,   8.5,  14.5,  36.5],\n",
       "       [-44. , -14. ,  -6. ,  -4. ,   0. ,   8. ,  14. ,  36. ],\n",
       "       [-44.5, -14.5,  -6.5,  -4.5,  -0.5,   7.5,  13.5,  35.5]])"
      ]
     },
     "execution_count": 25,
     "metadata": {},
     "output_type": "execute_result"
    }
   ],
   "source": [
    "bins_num = len(bins)\n",
    "\n",
    "bins_matrix = np.zeros((10, bins_num), dtype=float)\n",
    "\n",
    "for i in range(10):\n",
    "    for j in range(len(bins)):\n",
    "        bins_matrix[i, j] = bins [j] - 0.5*i\n",
    "\n",
    "bins_matrix"
   ]
  },
  {
   "cell_type": "markdown",
   "metadata": {},
   "source": [
    "Преобразуем данные в ряды"
   ]
  },
  {
   "cell_type": "code",
   "execution_count": 26,
   "metadata": {},
   "outputs": [
    {
     "name": "stdout",
     "output_type": "stream",
     "text": [
      "{2014: [5.8923686868686875, 5.63875, -0.1113636363636362, 2.950869565217391, -0.95625, -5.9991666666666665, -4.320760869565217, 1.004945652173913, -7.673484848484848, -7.01], 2015: [6.50625, 4.36125, 2.4886363636363638, 3.29, 0.5650000000000001, -1.4224999999999999, 1.795, -0.7096428571428571, -0.31590909090909114, -14.305000000000001], 2016: [9.73625, 3.065, 0.8465909090909091, -1.92125, -2.505, -3.525, -5.9725, -7.62, -0.6590909090909091, -13.346250000000001], 2017: [7.28375, 7.08125, 1.1556818181818183, 1.26625, 2.085, -3.22, -1.2149999999999999, 1.5325000000000002, -0.32954545454545453, -0.11374999999999998], 2018: [8.41, 10.7075, 3.285227272727272, 3.915, -1.74875, -4.00375, -3.76875, -6.008750000000001, -6.867045454545454, -6.395], 2019: [7.907500000000001, 10.7975, 7.903409090909091, 4.76875, 3.9162500000000002, -3.3549999999999995, 0.2653571428571429, 1.7474999999999998, 0.5227272727272726, 0.009999999999999986], 2020: [12.66, 8.0625, 7.029545454545455, 5.9350000000000005, -0.10249999999999995, 0.8775000000000001, -5.86875, -3.78625, -3.5, -2.83125], 2021: [6.01375, 6.47375, 6.584090909090909, 5.07125, 0.9375, 0.9450000000000001, -4.745, -4.14375, -11.784090909090908, -4.89875], 2022: [10.98125, 6.516249999999999, 4.513636363636364, 2.21625, 0.42874999999999985, -4.58375, -7.953749999999999, -3.2287500000000002, -1.3556818181818182, -9.58625], 2023: [8.56125, 6.91625, 1.3806818181818181, 7.545, -0.04249999999999998, -5.2175, -8.94125, -4.6274999999999995, -0.18522727272727277, -17.697499999999998]}\n"
     ]
    }
   ],
   "source": [
    "work_data3 = data_filtered.copy(deep=True)\n",
    "\n",
    "work_data3 = work_data3.drop(387)\n",
    "\n",
    "year_ranges3 = {}\n",
    "\n",
    "for i in range(0, len(work_data ), 10):\n",
    "\n",
    "    # Берем текущую группу из 10 значений\n",
    "    group = work_data3 .iloc[i:i+10]\n",
    "    \n",
    "    # Получаем год из первого элемента в группе\n",
    "    year = int(group['year'].iloc[0])\n",
    "    \n",
    "    # Сохраняем список значений T в словаре с указанным годом\n",
    "    year_ranges3[year] = group['T'].tolist()\n",
    "\n",
    "# Вывод результата\n",
    "print(year_ranges3)"
   ]
  },
  {
   "cell_type": "markdown",
   "metadata": {},
   "source": [
    "Заново декодируем исходные данные"
   ]
  },
  {
   "cell_type": "code",
   "execution_count": 27,
   "metadata": {},
   "outputs": [
    {
     "name": "stdout",
     "output_type": "stream",
     "text": [
      "2014     5.892369\n",
      "2015     6.506250\n",
      "2016     9.736250\n",
      "2017     7.283750\n",
      "2018     8.410000\n",
      "2019     7.907500\n",
      "2020    12.660000\n",
      "2021     6.013750\n",
      "2022    10.981250\n",
      "2023     8.561250\n",
      "Name: 0, dtype: float64\n",
      "[-40. -10.  -2.   0.   4.  12.  18.  40.]\n",
      "2014    5.63875\n",
      "2015    4.36125\n",
      "2016      3.065\n",
      "2017    7.08125\n",
      "2018    10.7075\n",
      "2019    10.7975\n",
      "2020     8.0625\n",
      "2021    6.47375\n",
      "2022    6.51625\n",
      "2023    6.91625\n",
      "Name: 1, dtype: object\n",
      "[-40.5 -10.5  -2.5  -0.5   3.5  11.5  17.5  39.5]\n",
      "2014   -0.111364\n",
      "2015    2.488636\n",
      "2016    0.846591\n",
      "2017    1.155682\n",
      "2018    3.285227\n",
      "2019    7.903409\n",
      "2020    7.029545\n",
      "2021    6.584091\n",
      "2022    4.513636\n",
      "2023    1.380682\n",
      "Name: 2, dtype: object\n",
      "[-41. -11.  -3.  -1.   3.  11.  17.  39.]\n",
      "2014    2.95087\n",
      "2015       3.29\n",
      "2016   -1.92125\n",
      "2017    1.26625\n",
      "2018      3.915\n",
      "2019    4.76875\n",
      "2020      5.935\n",
      "2021    5.07125\n",
      "2022    2.21625\n",
      "2023      7.545\n",
      "Name: 3, dtype: object\n",
      "[-41.5 -11.5  -3.5  -1.5   2.5  10.5  16.5  38.5]\n",
      "2014   -0.95625\n",
      "2015      0.565\n",
      "2016     -2.505\n",
      "2017      2.085\n",
      "2018   -1.74875\n",
      "2019    3.91625\n",
      "2020    -0.1025\n",
      "2021     0.9375\n",
      "2022    0.42875\n",
      "2023    -0.0425\n",
      "Name: 4, dtype: object\n",
      "[-42. -12.  -4.  -2.   2.  10.  16.  38.]\n",
      "2014   -5.999167\n",
      "2015     -1.4225\n",
      "2016      -3.525\n",
      "2017       -3.22\n",
      "2018    -4.00375\n",
      "2019      -3.355\n",
      "2020      0.8775\n",
      "2021       0.945\n",
      "2022    -4.58375\n",
      "2023     -5.2175\n",
      "Name: 5, dtype: object\n",
      "[-42.5 -12.5  -4.5  -2.5   1.5   9.5  15.5  37.5]\n",
      "2014   -4.320761\n",
      "2015       1.795\n",
      "2016     -5.9725\n",
      "2017      -1.215\n",
      "2018    -3.76875\n",
      "2019    0.265357\n",
      "2020    -5.86875\n",
      "2021      -4.745\n",
      "2022    -7.95375\n",
      "2023    -8.94125\n",
      "Name: 6, dtype: object\n",
      "[-43. -13.  -5.  -3.   1.   9.  15.  37.]\n",
      "2014    1.004946\n",
      "2015   -0.709643\n",
      "2016       -7.62\n",
      "2017      1.5325\n",
      "2018    -6.00875\n",
      "2019      1.7475\n",
      "2020    -3.78625\n",
      "2021    -4.14375\n",
      "2022    -3.22875\n",
      "2023     -4.6275\n",
      "Name: 7, dtype: object\n",
      "[-43.5 -13.5  -5.5  -3.5   0.5   8.5  14.5  36.5]\n",
      "2014    -7.673485\n",
      "2015    -0.315909\n",
      "2016    -0.659091\n",
      "2017    -0.329545\n",
      "2018    -6.867045\n",
      "2019     0.522727\n",
      "2020         -3.5\n",
      "2021   -11.784091\n",
      "2022    -1.355682\n",
      "2023    -0.185227\n",
      "Name: 8, dtype: object\n",
      "[-44. -14.  -6.  -4.   0.   8.  14.  36.]\n",
      "2014       -7.01\n",
      "2015     -14.305\n",
      "2016   -13.34625\n",
      "2017    -0.11375\n",
      "2018      -6.395\n",
      "2019        0.01\n",
      "2020    -2.83125\n",
      "2021    -4.89875\n",
      "2022    -9.58625\n",
      "2023    -17.6975\n",
      "Name: 9, dtype: object\n",
      "[-44.5 -14.5  -6.5  -4.5  -0.5   7.5  13.5  35.5]\n"
     ]
    },
    {
     "name": "stderr",
     "output_type": "stream",
     "text": [
      "C:\\Users\\admin\\AppData\\Local\\Temp\\ipykernel_14236\\3141286367.py:11: FutureWarning: Setting an item of incompatible dtype is deprecated and will raise an error in a future version of pandas. Value '5 interval' has dtype incompatible with float64, please explicitly cast to a compatible dtype first.\n",
      "  decoded_data3.iloc[i] = pd.cut(decoded_data3.iloc[i],bins=bins_local,labels=labels,include_lowest=True)\n",
      "C:\\Users\\admin\\AppData\\Local\\Temp\\ipykernel_14236\\3141286367.py:11: FutureWarning: Setting an item of incompatible dtype is deprecated and will raise an error in a future version of pandas. Value '5 interval' has dtype incompatible with float64, please explicitly cast to a compatible dtype first.\n",
      "  decoded_data3.iloc[i] = pd.cut(decoded_data3.iloc[i],bins=bins_local,labels=labels,include_lowest=True)\n",
      "C:\\Users\\admin\\AppData\\Local\\Temp\\ipykernel_14236\\3141286367.py:11: FutureWarning: Setting an item of incompatible dtype is deprecated and will raise an error in a future version of pandas. Value '5 interval' has dtype incompatible with float64, please explicitly cast to a compatible dtype first.\n",
      "  decoded_data3.iloc[i] = pd.cut(decoded_data3.iloc[i],bins=bins_local,labels=labels,include_lowest=True)\n",
      "C:\\Users\\admin\\AppData\\Local\\Temp\\ipykernel_14236\\3141286367.py:11: FutureWarning: Setting an item of incompatible dtype is deprecated and will raise an error in a future version of pandas. Value '5 interval' has dtype incompatible with float64, please explicitly cast to a compatible dtype first.\n",
      "  decoded_data3.iloc[i] = pd.cut(decoded_data3.iloc[i],bins=bins_local,labels=labels,include_lowest=True)\n",
      "C:\\Users\\admin\\AppData\\Local\\Temp\\ipykernel_14236\\3141286367.py:11: FutureWarning: Setting an item of incompatible dtype is deprecated and will raise an error in a future version of pandas. Value '5 interval' has dtype incompatible with float64, please explicitly cast to a compatible dtype first.\n",
      "  decoded_data3.iloc[i] = pd.cut(decoded_data3.iloc[i],bins=bins_local,labels=labels,include_lowest=True)\n",
      "C:\\Users\\admin\\AppData\\Local\\Temp\\ipykernel_14236\\3141286367.py:11: FutureWarning: Setting an item of incompatible dtype is deprecated and will raise an error in a future version of pandas. Value '5 interval' has dtype incompatible with float64, please explicitly cast to a compatible dtype first.\n",
      "  decoded_data3.iloc[i] = pd.cut(decoded_data3.iloc[i],bins=bins_local,labels=labels,include_lowest=True)\n",
      "C:\\Users\\admin\\AppData\\Local\\Temp\\ipykernel_14236\\3141286367.py:11: FutureWarning: Setting an item of incompatible dtype is deprecated and will raise an error in a future version of pandas. Value '6 interval' has dtype incompatible with float64, please explicitly cast to a compatible dtype first.\n",
      "  decoded_data3.iloc[i] = pd.cut(decoded_data3.iloc[i],bins=bins_local,labels=labels,include_lowest=True)\n",
      "C:\\Users\\admin\\AppData\\Local\\Temp\\ipykernel_14236\\3141286367.py:11: FutureWarning: Setting an item of incompatible dtype is deprecated and will raise an error in a future version of pandas. Value '5 interval' has dtype incompatible with float64, please explicitly cast to a compatible dtype first.\n",
      "  decoded_data3.iloc[i] = pd.cut(decoded_data3.iloc[i],bins=bins_local,labels=labels,include_lowest=True)\n",
      "C:\\Users\\admin\\AppData\\Local\\Temp\\ipykernel_14236\\3141286367.py:11: FutureWarning: Setting an item of incompatible dtype is deprecated and will raise an error in a future version of pandas. Value '5 interval' has dtype incompatible with float64, please explicitly cast to a compatible dtype first.\n",
      "  decoded_data3.iloc[i] = pd.cut(decoded_data3.iloc[i],bins=bins_local,labels=labels,include_lowest=True)\n",
      "C:\\Users\\admin\\AppData\\Local\\Temp\\ipykernel_14236\\3141286367.py:11: FutureWarning: Setting an item of incompatible dtype is deprecated and will raise an error in a future version of pandas. Value '5 interval' has dtype incompatible with float64, please explicitly cast to a compatible dtype first.\n",
      "  decoded_data3.iloc[i] = pd.cut(decoded_data3.iloc[i],bins=bins_local,labels=labels,include_lowest=True)\n"
     ]
    },
    {
     "data": {
      "text/html": [
       "<div>\n",
       "<style scoped>\n",
       "    .dataframe tbody tr th:only-of-type {\n",
       "        vertical-align: middle;\n",
       "    }\n",
       "\n",
       "    .dataframe tbody tr th {\n",
       "        vertical-align: top;\n",
       "    }\n",
       "\n",
       "    .dataframe thead th {\n",
       "        text-align: right;\n",
       "    }\n",
       "</style>\n",
       "<table border=\"1\" class=\"dataframe\">\n",
       "  <thead>\n",
       "    <tr style=\"text-align: right;\">\n",
       "      <th></th>\n",
       "      <th>2014</th>\n",
       "      <th>2015</th>\n",
       "      <th>2016</th>\n",
       "      <th>2017</th>\n",
       "      <th>2018</th>\n",
       "      <th>2019</th>\n",
       "      <th>2020</th>\n",
       "      <th>2021</th>\n",
       "      <th>2022</th>\n",
       "      <th>2023</th>\n",
       "    </tr>\n",
       "  </thead>\n",
       "  <tbody>\n",
       "    <tr>\n",
       "      <th>0</th>\n",
       "      <td>5 interval</td>\n",
       "      <td>5 interval</td>\n",
       "      <td>5 interval</td>\n",
       "      <td>5 interval</td>\n",
       "      <td>5 interval</td>\n",
       "      <td>5 interval</td>\n",
       "      <td>6 interval</td>\n",
       "      <td>5 interval</td>\n",
       "      <td>5 interval</td>\n",
       "      <td>5 interval</td>\n",
       "    </tr>\n",
       "    <tr>\n",
       "      <th>1</th>\n",
       "      <td>5 interval</td>\n",
       "      <td>5 interval</td>\n",
       "      <td>4 interval</td>\n",
       "      <td>5 interval</td>\n",
       "      <td>5 interval</td>\n",
       "      <td>5 interval</td>\n",
       "      <td>5 interval</td>\n",
       "      <td>5 interval</td>\n",
       "      <td>5 interval</td>\n",
       "      <td>5 interval</td>\n",
       "    </tr>\n",
       "    <tr>\n",
       "      <th>2</th>\n",
       "      <td>4 interval</td>\n",
       "      <td>4 interval</td>\n",
       "      <td>4 interval</td>\n",
       "      <td>4 interval</td>\n",
       "      <td>5 interval</td>\n",
       "      <td>5 interval</td>\n",
       "      <td>5 interval</td>\n",
       "      <td>5 interval</td>\n",
       "      <td>5 interval</td>\n",
       "      <td>4 interval</td>\n",
       "    </tr>\n",
       "    <tr>\n",
       "      <th>3</th>\n",
       "      <td>5 interval</td>\n",
       "      <td>5 interval</td>\n",
       "      <td>3 interval</td>\n",
       "      <td>4 interval</td>\n",
       "      <td>5 interval</td>\n",
       "      <td>5 interval</td>\n",
       "      <td>5 interval</td>\n",
       "      <td>5 interval</td>\n",
       "      <td>4 interval</td>\n",
       "      <td>5 interval</td>\n",
       "    </tr>\n",
       "    <tr>\n",
       "      <th>4</th>\n",
       "      <td>4 interval</td>\n",
       "      <td>4 interval</td>\n",
       "      <td>3 interval</td>\n",
       "      <td>5 interval</td>\n",
       "      <td>4 interval</td>\n",
       "      <td>5 interval</td>\n",
       "      <td>4 interval</td>\n",
       "      <td>4 interval</td>\n",
       "      <td>4 interval</td>\n",
       "      <td>4 interval</td>\n",
       "    </tr>\n",
       "    <tr>\n",
       "      <th>5</th>\n",
       "      <td>2 interval</td>\n",
       "      <td>4 interval</td>\n",
       "      <td>3 interval</td>\n",
       "      <td>3 interval</td>\n",
       "      <td>3 interval</td>\n",
       "      <td>3 interval</td>\n",
       "      <td>4 interval</td>\n",
       "      <td>4 interval</td>\n",
       "      <td>2 interval</td>\n",
       "      <td>2 interval</td>\n",
       "    </tr>\n",
       "    <tr>\n",
       "      <th>6</th>\n",
       "      <td>3 interval</td>\n",
       "      <td>5 interval</td>\n",
       "      <td>2 interval</td>\n",
       "      <td>4 interval</td>\n",
       "      <td>3 interval</td>\n",
       "      <td>4 interval</td>\n",
       "      <td>2 interval</td>\n",
       "      <td>3 interval</td>\n",
       "      <td>2 interval</td>\n",
       "      <td>2 interval</td>\n",
       "    </tr>\n",
       "    <tr>\n",
       "      <th>7</th>\n",
       "      <td>5 interval</td>\n",
       "      <td>4 interval</td>\n",
       "      <td>2 interval</td>\n",
       "      <td>5 interval</td>\n",
       "      <td>2 interval</td>\n",
       "      <td>5 interval</td>\n",
       "      <td>3 interval</td>\n",
       "      <td>3 interval</td>\n",
       "      <td>4 interval</td>\n",
       "      <td>3 interval</td>\n",
       "    </tr>\n",
       "    <tr>\n",
       "      <th>8</th>\n",
       "      <td>2 interval</td>\n",
       "      <td>4 interval</td>\n",
       "      <td>4 interval</td>\n",
       "      <td>4 interval</td>\n",
       "      <td>2 interval</td>\n",
       "      <td>5 interval</td>\n",
       "      <td>4 interval</td>\n",
       "      <td>2 interval</td>\n",
       "      <td>4 interval</td>\n",
       "      <td>4 interval</td>\n",
       "    </tr>\n",
       "    <tr>\n",
       "      <th>9</th>\n",
       "      <td>2 interval</td>\n",
       "      <td>2 interval</td>\n",
       "      <td>2 interval</td>\n",
       "      <td>5 interval</td>\n",
       "      <td>3 interval</td>\n",
       "      <td>5 interval</td>\n",
       "      <td>4 interval</td>\n",
       "      <td>3 interval</td>\n",
       "      <td>2 interval</td>\n",
       "      <td>1 interval</td>\n",
       "    </tr>\n",
       "  </tbody>\n",
       "</table>\n",
       "</div>"
      ],
      "text/plain": [
       "         2014        2015        2016        2017        2018        2019  \\\n",
       "0  5 interval  5 interval  5 interval  5 interval  5 interval  5 interval   \n",
       "1  5 interval  5 interval  4 interval  5 interval  5 interval  5 interval   \n",
       "2  4 interval  4 interval  4 interval  4 interval  5 interval  5 interval   \n",
       "3  5 interval  5 interval  3 interval  4 interval  5 interval  5 interval   \n",
       "4  4 interval  4 interval  3 interval  5 interval  4 interval  5 interval   \n",
       "5  2 interval  4 interval  3 interval  3 interval  3 interval  3 interval   \n",
       "6  3 interval  5 interval  2 interval  4 interval  3 interval  4 interval   \n",
       "7  5 interval  4 interval  2 interval  5 interval  2 interval  5 interval   \n",
       "8  2 interval  4 interval  4 interval  4 interval  2 interval  5 interval   \n",
       "9  2 interval  2 interval  2 interval  5 interval  3 interval  5 interval   \n",
       "\n",
       "         2020        2021        2022        2023  \n",
       "0  6 interval  5 interval  5 interval  5 interval  \n",
       "1  5 interval  5 interval  5 interval  5 interval  \n",
       "2  5 interval  5 interval  5 interval  4 interval  \n",
       "3  5 interval  5 interval  4 interval  5 interval  \n",
       "4  4 interval  4 interval  4 interval  4 interval  \n",
       "5  4 interval  4 interval  2 interval  2 interval  \n",
       "6  2 interval  3 interval  2 interval  2 interval  \n",
       "7  3 interval  3 interval  4 interval  3 interval  \n",
       "8  4 interval  2 interval  4 interval  4 interval  \n",
       "9  4 interval  3 interval  2 interval  1 interval  "
      ]
     },
     "execution_count": 27,
     "metadata": {},
     "output_type": "execute_result"
    }
   ],
   "source": [
    "decoded_data3 = year_ranges3\n",
    "\n",
    "decoded_data3 = pd.DataFrame(year_ranges3)\n",
    "\n",
    "labels = ['1 interval','2 interval','3 interval','4 interval','5 interval','6 interval','7 interval']\n",
    "\n",
    "for i in range (10):\n",
    "    print (decoded_data3.iloc[i]) #Выводим для проверки i-ую декаду\n",
    "    bins_local = bins_matrix[i]\n",
    "    print(bins_local) #Проверяем что для нее используется i-ая строка матрицы кодирования\n",
    "    decoded_data3.iloc[i] = pd.cut(decoded_data3.iloc[i],bins=bins_local,labels=labels,include_lowest=True)\n",
    "\n",
    "decoded_data3"
   ]
  },
  {
   "cell_type": "markdown",
   "metadata": {},
   "source": [
    "Считаем включения"
   ]
  },
  {
   "cell_type": "code",
   "execution_count": 28,
   "metadata": {},
   "outputs": [
    {
     "name": "stdout",
     "output_type": "stream",
     "text": [
      "0\t0\t0\t0\t0\t0\t0\n",
      "0\t5\t5\t2\t0\t0\t0\n",
      "0\t3\t4\t4\t1\t0\t0\n",
      "1\t7\t3\t9\t8\t0\t0\n",
      "0\t1\t2\t14\t20\t0\t0\n",
      "0\t0\t0\t0\t1\t0\t0\n",
      "0\t0\t0\t0\t0\t0\t0\n"
     ]
    }
   ],
   "source": [
    "rows, cols = len(labels), len(labels)\n",
    "\n",
    "count_matrix3 = [[0 for _ in range(cols)] for _ in range(rows)]\n",
    "\n",
    "counting_data3 = decoded_data3.to_dict(orient='list')\n",
    "\n",
    "for key, value in counting_data3.items():\n",
    "    for pair in range (9):\n",
    "        index_first = labels.index(value[pair])\n",
    "        #print(index_first)\n",
    "        index_last = labels.index(value[pair+1])\n",
    "        #print(index_last)\n",
    "        count_matrix3[index_first][index_last] += 1\n",
    "\n",
    "\n",
    "print('\\n'.join('\\t'.join(map(str, row)) for row in count_matrix3))"
   ]
  },
  {
   "cell_type": "markdown",
   "metadata": {},
   "source": [
    "Строим матрицу переходов"
   ]
  },
  {
   "cell_type": "code",
   "execution_count": 29,
   "metadata": {},
   "outputs": [
    {
     "name": "stdout",
     "output_type": "stream",
     "text": [
      "0.00 | 0.00 | 0.00 | 0.00 | 0.00 | 0.00 | 0.00\n",
      "0.00 | 0.42 | 0.42 | 0.17 | 0.00 | 0.00 | 0.00\n",
      "0.00 | 0.25 | 0.33 | 0.33 | 0.08 | 0.00 | 0.00\n",
      "0.04 | 0.25 | 0.11 | 0.32 | 0.29 | 0.00 | 0.00\n",
      "0.00 | 0.03 | 0.05 | 0.38 | 0.54 | 0.00 | 0.00\n",
      "0.00 | 0.00 | 0.00 | 0.00 | 1.00 | 0.00 | 0.00\n",
      "0.00 | 0.00 | 0.00 | 0.00 | 0.00 | 0.00 | 0.00\n"
     ]
    }
   ],
   "source": [
    "probability_matrix3 = count_matrix3\n",
    "\n",
    "for i in range(7):\n",
    "    i_sum = np.sum(probability_matrix3,axis=1)[i]\n",
    "    if i_sum > 0:\n",
    "        for j in range(7):\n",
    "            probability_matrix3[i][j] /= i_sum\n",
    "\n",
    "\n",
    "for row in probability_matrix3:\n",
    "    print(\" | \".join(f\"{value:.2f}\" for value in row))"
   ]
  },
  {
   "cell_type": "markdown",
   "metadata": {},
   "source": [
    "Определяем границы интервалов"
   ]
  },
  {
   "cell_type": "code",
   "execution_count": 30,
   "metadata": {},
   "outputs": [
    {
     "name": "stdout",
     "output_type": "stream",
     "text": [
      "[np.float64(-24.5), np.float64(-14.5), np.float64(-6.5), np.float64(-4.5), np.float64(-0.5), np.float64(7.5), np.float64(13.5)]\n",
      "[np.float64(-14.5), np.float64(-6.5), np.float64(-4.5), np.float64(-0.5), np.float64(7.5), np.float64(13.5), np.float64(20.833333333333336)]\n"
     ]
    }
   ],
   "source": [
    "min_values3 = [0 for _ in range(7)]\n",
    "max_values3 = [0 for _ in range(7)]\n",
    "\n",
    "#Берем диапазон соответствующий 1 декаде января\n",
    "bins3 = bins_matrix[9]\n",
    "\n",
    "for i in range(7):\n",
    "    min_values3[i] = bins3[i]\n",
    "    max_values3[i] = bins3[i+1]\n",
    "\n",
    "min_values3[0] = min_values3[1] *2/3 + min_values3[0]/3\n",
    "max_values3[6] = max_values3[5] *2/3 + max_values3[6]/3\n",
    "\n",
    "print(min_values3)\n",
    "print(max_values3)"
   ]
  },
  {
   "cell_type": "markdown",
   "metadata": {},
   "source": [
    "Определение итогового распределения вероятности для нашего случая"
   ]
  },
  {
   "cell_type": "code",
   "execution_count": 31,
   "metadata": {},
   "outputs": [
    {
     "data": {
      "text/plain": [
       "matrix([[0.        , 0.02702703, 0.05405405, 0.37837838, 0.54054054,\n",
       "         0.        , 0.        ]])"
      ]
     },
     "execution_count": 31,
     "metadata": {},
     "output_type": "execute_result"
    }
   ],
   "source": [
    "probability_matrix3 = np.matrix (probability_matrix3)\n",
    "\n",
    "result_probabilities3 = cur_state_vector * probability_matrix3\n",
    "\n",
    "result_probabilities3"
   ]
  },
  {
   "cell_type": "markdown",
   "metadata": {},
   "source": [
    "Итоговый прогноз"
   ]
  },
  {
   "cell_type": "code",
   "execution_count": 32,
   "metadata": {},
   "outputs": [
    {
     "name": "stdout",
     "output_type": "stream",
     "text": [
      "Максимум 3.4459459459459465\n",
      "Минимум -2.7162162162162162\n",
      "Среднее 0.36486486486486513\n"
     ]
    }
   ],
   "source": [
    "max3 = 0\n",
    "min3 = 0\n",
    "\n",
    "for i in range(6):\n",
    "    max3 += max_values3[i] * result_probabilities3[0, i]\n",
    "    min3 += min_values3[i] * result_probabilities3[0, i]\n",
    "\n",
    "avg3 = (max3 + min3)/2\n",
    "\n",
    "print('Максимум',max3)\n",
    "print('Минимум',min3)\n",
    "print('Среднее',avg3)"
   ]
  },
  {
   "cell_type": "markdown",
   "metadata": {},
   "source": [
    "# Результаты для разных вариантов"
   ]
  },
  {
   "cell_type": "code",
   "execution_count": 33,
   "metadata": {},
   "outputs": [
    {
     "name": "stdout",
     "output_type": "stream",
     "text": [
      "Вариант 1\n",
      "Максимум -3.777777777777777\n",
      "Минимум -11.333333333333332\n",
      "Среднее -7.5555555555555545\n",
      "Вариант 2\n",
      "Максимум 8.153846153846153\n",
      "Минимум 2.0769230769230766\n",
      "Среднее 5.115384615384615\n",
      "Вариант 3\n",
      "Максимум 3.4459459459459465\n",
      "Минимум -2.7162162162162162\n",
      "Среднее 0.36486486486486513\n"
     ]
    }
   ],
   "source": [
    "\n",
    "print('Вариант 1')\n",
    "print('Максимум',max)\n",
    "print('Минимум',min)\n",
    "print('Среднее',avg)\n",
    "\n",
    "print('Вариант 2')\n",
    "print('Максимум',max2)\n",
    "print('Минимум',min2)\n",
    "print('Среднее',avg2)\n",
    "\n",
    "print('Вариант 3')\n",
    "print('Максимум',max3)\n",
    "print('Минимум',min3)\n",
    "print('Среднее',avg3)"
   ]
  }
 ],
 "metadata": {
  "kernelspec": {
   "display_name": ".env",
   "language": "python",
   "name": "python3"
  },
  "language_info": {
   "codemirror_mode": {
    "name": "ipython",
    "version": 3
   },
   "file_extension": ".py",
   "mimetype": "text/x-python",
   "name": "python",
   "nbconvert_exporter": "python",
   "pygments_lexer": "ipython3",
   "version": "3.11.9"
  }
 },
 "nbformat": 4,
 "nbformat_minor": 2
}
